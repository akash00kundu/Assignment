{
 "cells": [
  {
   "cell_type": "markdown",
   "id": "f5d4a105-a64a-472d-a452-53d5899713d5",
   "metadata": {},
   "source": [
    "##1\n",
    "\n",
    "Creating custom exceptions by inheriting from the built-in Exception class (or its subclasses) in Python is a best practice that ensures consistency, compatibility, and proper behavior within the exception hierarchy. Here's why it's recommended to use the Exception class as the base class when creating custom exceptions:\n",
    "\n",
    "Hierarchical Structure: Python's exception hierarchy is organized with the BaseException at the top and the Exception class as its direct subclass. All built-in exceptions, including those for standard error types like ValueError, TypeError, and IOError, are derived from the Exception class. By inheriting from Exception, you position your custom exception within this hierarchy, allowing it to be caught alongside other exceptions.\n",
    "\n",
    " It provides compatibility, simplifies handling, and makes your code more consistent with the broader Python programming ecosystem.\n",
    "\n",
    "\n"
   ]
  },
  {
   "cell_type": "code",
   "execution_count": null,
   "id": "b55e8105-42c2-4e06-9733-8f549a6b27bd",
   "metadata": {},
   "outputs": [],
   "source": []
  },
  {
   "cell_type": "raw",
   "id": "00248e96-d9ba-4c86-9659-28891a664a9f",
   "metadata": {},
   "source": [
    "##3\n",
    "\n",
    "The \"ArithmeticError\" class in Python is a base class for exceptions that occur during arithmetic operations. While \"ArithmeticError\" itself does not define any specific errors.Two common exceptions that are subclasses of \"ArithmeticError\" are \"ZeroDivisionError\" and \"OverflowError\".\n",
    "\n",
    "\n",
    "\n",
    "#ZeroDivisionError:\n",
    "\n",
    "try:\n",
    "    result = 10 / 0\n",
    "except ZeroDivisionError as e:\n",
    "    print(\"Error:\", e)\n",
    "    \n",
    "    \n",
    "#OverflowError:\n",
    "\n",
    "try:\n",
    "    result = 2 ** 1000 \n",
    "except OverflowError as e:\n",
    "    print(\"Error:\", e)\n",
    "\n"
   ]
  },
  {
   "cell_type": "code",
   "execution_count": null,
   "id": "4e5d3f40-52f1-4f8b-ab23-aa412eb13285",
   "metadata": {},
   "outputs": [],
   "source": []
  },
  {
   "cell_type": "markdown",
   "id": "09a96327-a507-4a3b-8338-238fa3772c26",
   "metadata": {},
   "source": [
    "##4 \n",
    "\n",
    "The LookupError class in Python serves as a base class for exceptions that occur when attempting to access a sequence or mapping (like lists, tuples, dictionaries) with invalid or non-existent indices or keys. It provides a common parent class for more specific lookup-related exceptions like \"KeyError\" and \"IndexError\".\n",
    "\n"
   ]
  },
  {
   "cell_type": "code",
   "execution_count": 13,
   "id": "a1b783e6-0dfc-4379-b537-0c5acccf6b24",
   "metadata": {},
   "outputs": [
    {
     "name": "stdout",
     "output_type": "stream",
     "text": [
      "Eroor 'Address'\n",
      "Error list index out of range\n"
     ]
    }
   ],
   "source": [
    "\n",
    " #\"KeyError\"\n",
    "\n",
    "dict = {\"Name\": \"knoxx\", \"Age\": \"25\"}\n",
    "try :\n",
    "    value = dict[\"Address\"]\n",
    "except KeyError as e:\n",
    "    print(\"Eroor\", e)\n",
    " \n",
    " #\"IndexError\"\n",
    "\n",
    "list= [10,20,30]\n",
    "try:\n",
    "    value = list[5]\n",
    "except IndexError as e:\n",
    "    print(\"Error\",e)"
   ]
  },
  {
   "cell_type": "code",
   "execution_count": null,
   "id": "6e7f8661-fdfb-45b3-a5b9-3b13a4b65dd9",
   "metadata": {},
   "outputs": [],
   "source": []
  },
  {
   "cell_type": "code",
   "execution_count": null,
   "id": "797fef9e-bc8f-4658-b0c2-6bd55f29b4d0",
   "metadata": {},
   "outputs": [],
   "source": []
  },
  {
   "cell_type": "raw",
   "id": "3bdad83c-4cee-44ea-8fb8-4ad2300b94f4",
   "metadata": {},
   "source": [
    "##5\n",
    "\n",
    "ImportError and ModuleNotFoundError are both exceptions that occur when there are issues related to importing and loading modules in Python.\n",
    "\n",
    "ImportError:\n",
    "It can be raised for various reasons, such as:\n",
    "The module name is misspelled.\n",
    "The module is not installed in the current environment.\n",
    "The module file is not present in the specified location.\n",
    "There are circular imports or dependency issues.\n",
    "\n",
    "ModuleNotFoundError:\n",
    "It is raised when an import statement cannot find the specified module. While ImportError can also be raised for other import-related issues, ModuleNotFoundError specifically indicates that the module could not be found."
   ]
  },
  {
   "cell_type": "code",
   "execution_count": null,
   "id": "14518ee9-6474-47a9-a4f2-69d105439500",
   "metadata": {},
   "outputs": [],
   "source": []
  },
  {
   "cell_type": "raw",
   "id": "73d21ca7-2bb7-4b07-a853-eee4ad1e3d77",
   "metadata": {},
   "source": [
    "##6\n",
    "\n",
    "Effective exception handling is crucial for writing robust and maintainable Python code. Here are some best practices to follow when handling exceptions:\n",
    "Be Specific in Exception Handling.\n",
    "Use Separate except Blocks for Different Exceptions.\n",
    "Keep Exception Handling Minimal.\n",
    "Use finally for Cleanup.\n",
    "Logging Exceptions.\n"
   ]
  }
 ],
 "metadata": {
  "kernelspec": {
   "display_name": "Python 3 (ipykernel)",
   "language": "python",
   "name": "python3"
  },
  "language_info": {
   "codemirror_mode": {
    "name": "ipython",
    "version": 3
   },
   "file_extension": ".py",
   "mimetype": "text/x-python",
   "name": "python",
   "nbconvert_exporter": "python",
   "pygments_lexer": "ipython3",
   "version": "3.10.8"
  }
 },
 "nbformat": 4,
 "nbformat_minor": 5
}
