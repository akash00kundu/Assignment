{
 "cells": [
  {
   "cell_type": "markdown",
   "id": "bb559c8b-bcce-4308-9653-34ee4cd309ee",
   "metadata": {},
   "source": [
    "Exceptions:\n",
    "\n",
    "Exceptions occur during the execution of a program.\n",
    "They are instances of classes that inherit from the base Exception class.\n",
    "Exceptions represent various types of runtime errors, such as division by zero, attempting to access an index that's out of range, or trying to open a file that doesn't exist.\n",
    "You can handle exceptions using the try, except, else, and finally blocks.\n",
    "Exceptions provide a way to gracefully respond to errors, either by recovering from them or displaying meaningful error messages.\n",
    "Syntax Errors:\n",
    "\n",
    "Syntax errors occur before the program is executed, during the parsing phase.\n",
    "They are caused by violations of the Python language syntax rules.\n",
    "Syntax errors prevent the code from being executed at all.\n",
    "Examples of syntax errors include missing colons in control structures, mismatched parentheses, or using undefined variables.\n",
    "These errors are typically caught by the Python interpreter before the program starts running.\n",
    "\n",
    "\n",
    "\n"
   ]
  },
  {
   "cell_type": "code",
   "execution_count": null,
   "id": "2d301da7-9d46-4b84-be53-fe3dabf05575",
   "metadata": {},
   "outputs": [],
   "source": []
  },
  {
   "cell_type": "code",
   "execution_count": null,
   "id": "dfbf5132-5073-45f4-b75f-8c678eb11269",
   "metadata": {},
   "outputs": [],
   "source": []
  },
  {
   "cell_type": "markdown",
   "id": "d6d457ae-9722-4ac9-afc9-29e3907301a5",
   "metadata": {},
   "source": [
    "When an exception is not handled in a program, it leads to an abnormal termination of the program's execution. This means that the program will abruptly stop running, and an error message will be displayed to the user, indicating the type of exception that occurred and the location in the code where the exception was raised."
   ]
  },
  {
   "cell_type": "code",
   "execution_count": 6,
   "id": "8c6f8ba3-7402-40fc-bb2d-a261ce7718aa",
   "metadata": {},
   "outputs": [
    {
     "name": "stdin",
     "output_type": "stream",
     "text": [
      "Enter a number:   \n"
     ]
    },
    {
     "name": "stdout",
     "output_type": "stream",
     "text": [
      "Invalid input! Please enter a valid number.\n"
     ]
    }
   ],
   "source": [
    "try:\n",
    "    num = int(input(\"Enter a number: \"))\n",
    "    result = 10 / num\n",
    "    print(\"Result:\", result)\n",
    "except ValueError:\n",
    "    print(\"Invalid input! Please enter a valid number.\")\n",
    "except ZeroDivisionError:\n",
    "    print(\"Cannot divide by zero! Please enter a non-zero number.\")\n"
   ]
  },
  {
   "cell_type": "code",
   "execution_count": null,
   "id": "683e4bba-6501-4f03-b722-1273102efd0c",
   "metadata": {},
   "outputs": [],
   "source": []
  },
  {
   "cell_type": "code",
   "execution_count": null,
   "id": "db69efb9-a172-4008-82df-4d3eeda9affc",
   "metadata": {},
   "outputs": [],
   "source": []
  },
  {
   "cell_type": "code",
   "execution_count": 7,
   "id": "297abeec-1562-47fb-86ed-fb8c1ee3a636",
   "metadata": {},
   "outputs": [
    {
     "name": "stdin",
     "output_type": "stream",
     "text": [
      "Enter a number:  55\n"
     ]
    },
    {
     "name": "stdout",
     "output_type": "stream",
     "text": [
      "Result: 0.18181818181818182\n",
      "Execution completed.\n"
     ]
    }
   ],
   "source": [
    "try:\n",
    "    num = int(input(\"Enter a number: \"))\n",
    "    result = 10 / num\n",
    "except ValueError:\n",
    "    print(\"Invalid input! Please enter a valid number.\")\n",
    "except ZeroDivisionError:\n",
    "    print(\"Cannot divide by zero! Please enter a non-zero number.\")\n",
    "else:\n",
    "    print(\"Result:\", result)\n",
    "finally:\n",
    "    print(\"Execution completed.\")\n"
   ]
  },
  {
   "cell_type": "code",
   "execution_count": null,
   "id": "930f8afc-7266-468e-9542-46eb3cba8122",
   "metadata": {},
   "outputs": [],
   "source": []
  },
  {
   "cell_type": "code",
   "execution_count": null,
   "id": "aa136b78-9dd2-4125-b078-7bf7e9a1d962",
   "metadata": {},
   "outputs": [],
   "source": []
  },
  {
   "cell_type": "code",
   "execution_count": 11,
   "id": "091e8f8b-bdf2-4475-88e7-194d75e5c9da",
   "metadata": {},
   "outputs": [
    {
     "name": "stdin",
     "output_type": "stream",
     "text": [
      "Enter a number:  8\n"
     ]
    },
    {
     "name": "stdout",
     "output_type": "stream",
     "text": [
      "Result: 1.25\n",
      "Execution completed.\n"
     ]
    }
   ],
   "source": [
    "try:\n",
    "    num = int(input(\"Enter a number: \"))\n",
    "    result = 10 / num\n",
    "except ValueError:\n",
    "    print(\"Invalid input! Please enter a valid number.\")\n",
    "except ZeroDivisionError:\n",
    "    print(\"Cannot divide by zero! Please enter a non-zero number.\")\n",
    "else:\n",
    "    print(\"Result:\", result)\n",
    "    if result > 5:\n",
    "            raise ValueError(\"Result is too large.\")\n",
    "finally:\n",
    "    print(\"Execution completed.\")\n"
   ]
  },
  {
   "cell_type": "code",
   "execution_count": null,
   "id": "52f079b7-9cee-48ec-a89d-6ac04f1a5fee",
   "metadata": {},
   "outputs": [],
   "source": []
  },
  {
   "cell_type": "code",
   "execution_count": null,
   "id": "361f0c36-81ea-4669-9c38-53a24ed1512a",
   "metadata": {},
   "outputs": [],
   "source": []
  },
  {
   "cell_type": "code",
   "execution_count": 13,
   "id": "b2f1c999-9fd8-492e-8314-4705c4852be6",
   "metadata": {},
   "outputs": [
    {
     "name": "stdin",
     "output_type": "stream",
     "text": [
      "Enter a positive number:  -9\n"
     ]
    },
    {
     "name": "stdout",
     "output_type": "stream",
     "text": [
      "Error: Negative value not allowed: -9\n"
     ]
    }
   ],
   "source": [
    "class NegativeValueError(Exception):\n",
    "    def __init__(self, value):\n",
    "        self.value = value\n",
    "        super().__init__(f\"Negative value not allowed: {value}\")\n",
    "\n",
    "def process_positive_number(number):\n",
    "    if number < 0:\n",
    "        raise NegativeValueError(number)\n",
    "    else:\n",
    "        print(\"Processing number:\", number)\n",
    "\n",
    "try:\n",
    "    num = int(input(\"Enter a positive number: \"))\n",
    "    process_positive_number(num)\n",
    "except NegativeValueError as e:\n",
    "    print(\"Error:\", e)\n"
   ]
  },
  {
   "cell_type": "code",
   "execution_count": null,
   "id": "6b8d20c2-ac44-4d8c-8d13-0761a1462e81",
   "metadata": {},
   "outputs": [],
   "source": []
  }
 ],
 "metadata": {
  "kernelspec": {
   "display_name": "Python 3 (ipykernel)",
   "language": "python",
   "name": "python3"
  },
  "language_info": {
   "codemirror_mode": {
    "name": "ipython",
    "version": 3
   },
   "file_extension": ".py",
   "mimetype": "text/x-python",
   "name": "python",
   "nbconvert_exporter": "python",
   "pygments_lexer": "ipython3",
   "version": "3.10.8"
  }
 },
 "nbformat": 4,
 "nbformat_minor": 5
}
