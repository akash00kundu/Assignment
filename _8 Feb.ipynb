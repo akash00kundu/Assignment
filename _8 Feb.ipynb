{
 "cells": [
  {
   "cell_type": "raw",
   "id": "9e4c350b-a618-45f6-a6f1-937cd7f2ffff",
   "metadata": {},
   "source": [
    "##1 \n",
    "\n",
    "Abstraction is one of the four fundamental principles of Object-Oriented Programming . It is the process of hiding the internal implementation details of an object and exposing only the relevant features or functionalities to the outside world. In other words, abstraction allows you to focus on what an object does rather than how it does it. It provides a simplified and more manageable view of complex systems, making it easier to work with objects in a program."
   ]
  },
  {
   "cell_type": "code",
   "execution_count": null,
   "id": "e53928d8-dcd4-482d-af82-278e056d7b0b",
   "metadata": {},
   "outputs": [],
   "source": [
    "##1\n",
    "\n",
    "import abc\n",
    "\n",
    "class employee:\n",
    "    \n",
    "    @abc.abstractmethod\n",
    "    def employee_details(self):\n",
    "        pass\n",
    "    \n",
    "    @abc.abstractmethod\n",
    "    def employee_age(self):\n",
    "        pass\n",
    "    \n",
    "    @abc.abstractmethod\n",
    "    def employee_performance(self):\n",
    "        pass\n",
    "    "
   ]
  },
  {
   "cell_type": "code",
   "execution_count": null,
   "id": "00cdf3b2-e265-4357-ba94-1893774111b8",
   "metadata": {},
   "outputs": [],
   "source": []
  },
  {
   "cell_type": "raw",
   "id": "d4126942-5898-46ed-9846-c90c7a923515",
   "metadata": {},
   "source": [
    "##2 \n",
    "\n",
    "Abstraction:  Abstraction is the process of hiding the internal implementation details of               an object and exposing only the essential characteristics and behaviors to               the outside world.\n",
    "\n",
    "Encapsulation: It ensures that the internal state of an object is protected from direct                  external access, and the interaction with the object is done through well-                defined public methods.\n"
   ]
  },
  {
   "cell_type": "code",
   "execution_count": 28,
   "id": "bdac4962-c204-4349-a081-a55a64a95583",
   "metadata": {},
   "outputs": [],
   "source": [
    "##2\n",
    "\n",
    "\n",
    "##Abstraction:\n",
    "\n",
    "import abc\n",
    "\n",
    "class employee:\n",
    "    \n",
    "    @abc.abstractmethod\n",
    "    def employee_details(self):\n",
    "        pass\n",
    "    \n",
    "    @abc.abstractmethod\n",
    "    def employee_age(self):\n",
    "        pass\n",
    "    \n",
    "    @abc.abstractmethod\n",
    "    def employee_performance(self):\n",
    "        pass\n",
    "    \n",
    "    \n",
    "##Encapsulation:\n",
    "\n",
    "class bank :\n",
    "    def __init__(self,balance):\n",
    "        self.__balance = balance\n",
    "        \n",
    "    def deposit(self,amount):\n",
    "        self.__balance = self.__balance + amount\n",
    "        \n",
    "    def withdraw(self,amount):\n",
    "        if self.__balance >= amount:\n",
    "            self.__balance = self.__balance - amount\n",
    "            \n",
    "        else :\n",
    "            return \"Insufficient Funds.\"\n",
    "        \n",
    "        \n",
    "    def get_balance(self):\n",
    "        \n",
    "\n",
    "        return  self.__balance"
   ]
  },
  {
   "cell_type": "code",
   "execution_count": null,
   "id": "49661f1e-e0bc-497d-a462-c84e2b90bf36",
   "metadata": {},
   "outputs": [],
   "source": []
  },
  {
   "cell_type": "code",
   "execution_count": null,
   "id": "c5f461ad-4c56-4116-8337-0ec4d213f971",
   "metadata": {},
   "outputs": [],
   "source": []
  },
  {
   "cell_type": "code",
   "execution_count": 42,
   "id": "75ab9183-19fa-4f35-a328-0e8227ec3f64",
   "metadata": {},
   "outputs": [],
   "source": [
    "##3\n",
    "\n",
    "#    the abc module stands for \"Abstract Base Classes\" .\n",
    "#    They allow you to define a common set of methods \n",
    "#    that must be implemented in the subclasses, enforcing \n",
    "#    a particular API and ensuring that the subclasses adhere \n",
    "#    to a specific contract.\n",
    "\n",
    "\n",
    "\n",
    "import abc\n",
    "\n",
    "class car:\n",
    "    def wheels(self):\n",
    "        return \"every car has 4 Wheels\"\n",
    "    \n",
    "    @abc.abstractmethod\n",
    "    def speed(self):\n",
    "        pass\n",
    "    \n",
    "class KIA (car):\n",
    "    def speed(self):\n",
    "        return \"Speed Is 85Km/H\"\n",
    "    \n",
    "class NISSAN (car):\n",
    "    def speed(self):\n",
    "        return \"Speed Is 90Km/H \""
   ]
  },
  {
   "cell_type": "code",
   "execution_count": null,
   "id": "becc85fc-0f6b-43a9-a927-3704f581b43b",
   "metadata": {},
   "outputs": [],
   "source": []
  },
  {
   "cell_type": "code",
   "execution_count": null,
   "id": "6cf59232-8f1d-47a4-be50-c93706ea0148",
   "metadata": {},
   "outputs": [],
   "source": []
  },
  {
   "cell_type": "markdown",
   "id": "a1c8caf8-7a00-4170-b55e-c7c307aa2b33",
   "metadata": {},
   "source": [
    "##4\n",
    "\n",
    "Data abstraction is a fundamental concept in object-oriented programming that allows you to define the essential characteristics and behaviors of a data type while hiding the implementation details.\n",
    "\n",
    "\n",
    "At First We Have To Define a Class Then Encapsulation , After That Private Attributes and Methods and Public Methods\n"
   ]
  },
  {
   "cell_type": "code",
   "execution_count": null,
   "id": "7deac9ac-6781-41d6-820f-b26f65da6bbc",
   "metadata": {},
   "outputs": [],
   "source": [
    "##4\n",
    "\n",
    "class bank :\n",
    "    def __init__(self,balance):\n",
    "        self.__balance = balance\n",
    "        \n",
    "    def deposit(self,amount):\n",
    "        self.__balance = self.__balance + amount\n",
    "        \n",
    "    def withdraw(self,amount):\n",
    "        if self.__balance >= amount:\n",
    "            self.__balance = self.__balance - amount\n",
    "            \n",
    "        else :\n",
    "            return \"Insufficient Funds.\"\n",
    "        \n",
    "        \n",
    "    def get_balance(self):\n",
    "        \n",
    "\n",
    "        return  self.__balance"
   ]
  }
 ],
 "metadata": {
  "kernelspec": {
   "display_name": "Python 3 (ipykernel)",
   "language": "python",
   "name": "python3"
  },
  "language_info": {
   "codemirror_mode": {
    "name": "ipython",
    "version": 3
   },
   "file_extension": ".py",
   "mimetype": "text/x-python",
   "name": "python",
   "nbconvert_exporter": "python",
   "pygments_lexer": "ipython3",
   "version": "3.10.8"
  }
 },
 "nbformat": 4,
 "nbformat_minor": 5
}
