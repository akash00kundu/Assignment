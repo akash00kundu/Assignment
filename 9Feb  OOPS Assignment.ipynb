{
 "cells": [
  {
   "cell_type": "code",
   "execution_count": 27,
   "id": "50d4ee71-c96b-43a8-9f1e-d854a507ad0c",
   "metadata": {},
   "outputs": [],
   "source": [
    "#1\n",
    "\n",
    "class vehicle:\n",
    "    def __init__(self,name_of_vehicle,max_speed,average_of_vehicle):\n",
    "        self.name_of_vehicle = name_of_vehicle\n",
    "        self.max_speed = max_speed\n",
    "        self.average_of_vehicle = average_of_vehicle\n",
    "        \n",
    "    def name_of_vehicle1(self):\n",
    "        return self.name_of_vehicle\n",
    "    \n",
    "    \n",
    "    def max_speed1(self):\n",
    "        if self.max_speed <= 0:\n",
    "            self.max_speed = 0\n",
    "            print(\"Speed Is Invalid\")\n",
    "        else:\n",
    "            return self.max_speed\n",
    "        \n",
    "        \n",
    "    def average_of_vehicle1(self):\n",
    "        return self.average_of_vehicle\n",
    "    \n",
    "    \n",
    "    def show_details(self):\n",
    "        return self.name_of_vehicle,self.max_speed,self.average_of_vehicle\n",
    "        \n",
    "    "
   ]
  },
  {
   "cell_type": "code",
   "execution_count": 28,
   "id": "be890e87-a472-4273-abce-b506766b4a78",
   "metadata": {},
   "outputs": [],
   "source": [
    "torzo = vehicle(\"torzo\",-20,92)"
   ]
  },
  {
   "cell_type": "code",
   "execution_count": 29,
   "id": "e10c84b3-8d2a-40bf-9305-bf835ecceb2b",
   "metadata": {},
   "outputs": [
    {
     "name": "stdout",
     "output_type": "stream",
     "text": [
      "Speed Is Invalid\n"
     ]
    }
   ],
   "source": [
    "torzo.max_speed1()"
   ]
  },
  {
   "cell_type": "code",
   "execution_count": 30,
   "id": "b483c565-7faa-4384-bd47-6e457e6869b2",
   "metadata": {},
   "outputs": [
    {
     "data": {
      "text/plain": [
       "('torzo', 0, 92)"
      ]
     },
     "execution_count": 30,
     "metadata": {},
     "output_type": "execute_result"
    }
   ],
   "source": [
    "torzo.show_details()"
   ]
  },
  {
   "cell_type": "code",
   "execution_count": 33,
   "id": "df4af59c-9c9e-4d4a-85e9-586a1eec3222",
   "metadata": {},
   "outputs": [
    {
     "data": {
      "text/plain": [
       "92"
      ]
     },
     "execution_count": 33,
     "metadata": {},
     "output_type": "execute_result"
    }
   ],
   "source": [
    "torzo.average_of_vehicle1()"
   ]
  },
  {
   "cell_type": "code",
   "execution_count": null,
   "id": "41fcc122-5d1d-420f-9c39-4f3ef95d9cb6",
   "metadata": {},
   "outputs": [],
   "source": []
  },
  {
   "cell_type": "code",
   "execution_count": 29,
   "id": "d832ce03-aec4-44b7-89fd-6181b7e8a4ae",
   "metadata": {},
   "outputs": [],
   "source": [
    "#2\n",
    "\n",
    "class vehicle:\n",
    "    def __init__(self, name, model):\n",
    "        self.name = name\n",
    "        self.model = model\n",
    "            \n",
    "    def show_info(self):\n",
    "        print(f\"Name: {self.name}, Model: {self.model}\")\n",
    "\n",
    "class car(vehicle):\n",
    "    def __init__(self, name, model):\n",
    "        super().__init__(name, model)\n",
    "        \n",
    "    def seating_capacity(self,capacity):\n",
    "        return f\"{self.name} - Seating Capacity: {capacity}\"\n",
    "    "
   ]
  },
  {
   "cell_type": "code",
   "execution_count": 30,
   "id": "45a3e0bf-a6e8-4c34-9fff-b08438df8c72",
   "metadata": {},
   "outputs": [
    {
     "name": "stdout",
     "output_type": "stream",
     "text": [
      "Name: vision, Model: 2h58\n"
     ]
    },
    {
     "data": {
      "text/plain": [
       "'vision - Seating Capacity: 88'"
      ]
     },
     "execution_count": 30,
     "metadata": {},
     "output_type": "execute_result"
    }
   ],
   "source": [
    "new = car(\"vision\", \"2h58\")\n",
    "new.show_info()\n",
    "new.seating_capacity(88)"
   ]
  },
  {
   "cell_type": "code",
   "execution_count": null,
   "id": "e170dd1c-cb5c-4918-a17a-ae40bdf2af3f",
   "metadata": {},
   "outputs": [],
   "source": []
  },
  {
   "cell_type": "code",
   "execution_count": null,
   "id": "d9506afe-bc22-4e01-9019-6e710bc5418c",
   "metadata": {},
   "outputs": [],
   "source": []
  },
  {
   "cell_type": "code",
   "execution_count": null,
   "id": "edc07f78-dabf-4a07-ac3f-21a26bee079c",
   "metadata": {},
   "outputs": [],
   "source": []
  },
  {
   "cell_type": "code",
   "execution_count": null,
   "id": "5e95c351-0fd9-4b85-8bf0-13abe77c31b1",
   "metadata": {},
   "outputs": [],
   "source": []
  },
  {
   "cell_type": "code",
   "execution_count": 2,
   "id": "b185f2e7-b021-44a0-b50c-6bb2a3e70381",
   "metadata": {},
   "outputs": [],
   "source": [
    "#3\n",
    "\n",
    "### Multiple inheritance is a programming concept where a class can inherit ###\n",
    "### properties and behaviors from more than one parent class simultaneously.###\n",
    "\n",
    "\n",
    "\n",
    "\n",
    "class person :\n",
    "    def __init__(self,name,age):\n",
    "        self.name = name\n",
    "        self.age = age\n",
    "        \n",
    "    def person_details(self):\n",
    "        print(f\"name : {self.name}, age :{self.age}\")\n",
    "        \n",
    "        \n",
    "class student:\n",
    "    def __init__(self,roll_no,dept):\n",
    "        self.roll_no = roll_no\n",
    "        self.dept = dept\n",
    "        \n",
    "    def student_details(self):\n",
    "        print(f\"roll_no : {self.roll_no}, dept :{self.dept}\")\n",
    "        \n",
    "        \n",
    "class employee:\n",
    "    def __init__(self, ID_no , salary):\n",
    "        self.ID_no = ID_no\n",
    "        self.salary = salary\n",
    "        \n",
    "    def employee_details(self):\n",
    "        print(f\"ID_no = {self.ID_no}, salary :{self.salary} \")\n",
    "        \n",
    "        \n",
    "        \n",
    "class information(person,student,employee):\n",
    "    \n",
    "    def __init__(self,name,age,roll_no,dept,ID_no,salary):\n",
    "        person.__init__(self,name,age)\n",
    "        student.__init__(self,roll_no,dept)\n",
    "        employee.__init__(self, ID_no , salary)\n",
    "       \n",
    "        \n",
    "    \n",
    "    def show_details(self):\n",
    "        return f\"name : {self.name}, age :{self.age}, roll_no : {self.roll_no}, dept :{self.dept}, ID_no = {self.ID_no}, salary :{self.salary} \"\n",
    "   \n",
    "    "
   ]
  },
  {
   "cell_type": "code",
   "execution_count": 3,
   "id": "8c7a75f3-8308-4d00-b897-0336a5f29f54",
   "metadata": {},
   "outputs": [],
   "source": [
    "diln =information(\"knoxx\",26,235,\"CST\",658,50063)"
   ]
  },
  {
   "cell_type": "code",
   "execution_count": 13,
   "id": "3f6fd75e-05f0-4b02-9fbb-dcd969aace93",
   "metadata": {},
   "outputs": [
    {
     "data": {
      "text/plain": [
       "'name : knoxx, age :26, roll_no : 235, dept :CST, ID_no = 658, salary :50063 '"
      ]
     },
     "execution_count": 13,
     "metadata": {},
     "output_type": "execute_result"
    }
   ],
   "source": [
    "diln.show_details()"
   ]
  },
  {
   "cell_type": "code",
   "execution_count": 15,
   "id": "cb7edf08-5cec-476f-b841-4da2168409c3",
   "metadata": {},
   "outputs": [
    {
     "name": "stdout",
     "output_type": "stream",
     "text": [
      "roll_no : 235, dept :CST\n"
     ]
    }
   ],
   "source": [
    "diln.student_details()"
   ]
  },
  {
   "cell_type": "code",
   "execution_count": null,
   "id": "ae7ab9bf-a2cc-42dc-99a3-055fa8566430",
   "metadata": {},
   "outputs": [],
   "source": []
  },
  {
   "cell_type": "code",
   "execution_count": null,
   "id": "f885a9c3-c6c0-4fad-a29d-e3678fd9ff48",
   "metadata": {},
   "outputs": [],
   "source": []
  },
  {
   "cell_type": "code",
   "execution_count": 36,
   "id": "082b3ef5-f2a2-4423-b695-fe62a9b8dde5",
   "metadata": {},
   "outputs": [],
   "source": [
    "#4\n",
    "\n",
    "\n",
    "\n",
    "###  A getter is a method that allows retrieving the value of a\n",
    "###  private attribute, providing controlled access to the data.\n",
    "\n",
    "###  A setter is a method that allows modifying the value of a\n",
    "###  private attribute, enabling data validation and encapsulation.\n",
    "\n",
    "\n",
    "\n",
    "\n",
    "\n",
    "\n",
    "class test:\n",
    "    def __init__ (self):\n",
    "        self.value= 10\n",
    "        \n",
    "    def get_value(self):\n",
    "        return self.value\n",
    "        \n",
    "\n",
    "    def set_new_value(self, set_new_value):\n",
    "        self.value = set_new_value\n",
    "        "
   ]
  },
  {
   "cell_type": "code",
   "execution_count": 41,
   "id": "603443a9-141b-4dac-8ec6-7989c3b23626",
   "metadata": {},
   "outputs": [],
   "source": [
    "check = test()"
   ]
  },
  {
   "cell_type": "code",
   "execution_count": 43,
   "id": "11e61c08-c50d-424a-946a-c9d9db228825",
   "metadata": {},
   "outputs": [
    {
     "data": {
      "text/plain": [
       "10"
      ]
     },
     "execution_count": 43,
     "metadata": {},
     "output_type": "execute_result"
    }
   ],
   "source": [
    "check.get_value()"
   ]
  },
  {
   "cell_type": "code",
   "execution_count": 44,
   "id": "7f63be62-b9c4-4b25-9afc-4c4c0e484eb1",
   "metadata": {},
   "outputs": [],
   "source": [
    "check.set_new_value(555)"
   ]
  },
  {
   "cell_type": "code",
   "execution_count": 45,
   "id": "c158cf02-ee52-4ff4-bb2a-ebcf2389cdd7",
   "metadata": {},
   "outputs": [
    {
     "data": {
      "text/plain": [
       "555"
      ]
     },
     "execution_count": 45,
     "metadata": {},
     "output_type": "execute_result"
    }
   ],
   "source": [
    "check.get_value()"
   ]
  },
  {
   "cell_type": "code",
   "execution_count": null,
   "id": "072f7c26-e9fe-4b8a-a985-5390f6c06a44",
   "metadata": {},
   "outputs": [],
   "source": []
  },
  {
   "cell_type": "code",
   "execution_count": null,
   "id": "db5d341f-52e5-4d07-97a5-4190f31208c9",
   "metadata": {},
   "outputs": [],
   "source": []
  },
  {
   "cell_type": "code",
   "execution_count": null,
   "id": "e3b3d0a1-9543-452d-aae0-7e869a23d091",
   "metadata": {},
   "outputs": [],
   "source": []
  },
  {
   "cell_type": "code",
   "execution_count": 27,
   "id": "6e3a6173-7640-4b66-afa3-c81b124a61c3",
   "metadata": {},
   "outputs": [],
   "source": [
    "#5\n",
    "##Method overriding is a fundamental aspect of object-oriented programming and is used to achieve polymorphism.\n",
    "##It enables a subclass to provide its own implementation of a method that already exists in its superclass.\n",
    "\n",
    "\n",
    "class Animal:\n",
    "    def speak(self):\n",
    "        return \"Animal speaks\"\n",
    "\n",
    "class Dog(Animal):\n",
    "    def speak(self):\n",
    "        return \"Woof! Woof!\"\n",
    "\n",
    "class Cat(Animal):\n",
    "    def speak(self):\n",
    "        return \"Meow!\"\n",
    "\n"
   ]
  },
  {
   "cell_type": "code",
   "execution_count": 24,
   "id": "737768c8-c5d0-41b3-b307-e02f1aa7ca0e",
   "metadata": {},
   "outputs": [],
   "source": [
    "Dog = Dog()\n",
    "Cat = Cat()"
   ]
  },
  {
   "cell_type": "code",
   "execution_count": 26,
   "id": "d0310540-4799-4b08-b108-5174600fc51c",
   "metadata": {},
   "outputs": [
    {
     "name": "stdout",
     "output_type": "stream",
     "text": [
      "Meow!\n",
      "Woof! Woof!\n"
     ]
    }
   ],
   "source": [
    "print(Cat.speak())\n",
    "print(Dog.speak())\n"
   ]
  },
  {
   "cell_type": "code",
   "execution_count": null,
   "id": "29d14bc0-ef75-4625-a3c5-2b57d5aa11da",
   "metadata": {},
   "outputs": [],
   "source": []
  },
  {
   "cell_type": "code",
   "execution_count": null,
   "id": "feb92212-2778-4be3-ac04-af0c72a2c0b7",
   "metadata": {},
   "outputs": [],
   "source": []
  },
  {
   "cell_type": "code",
   "execution_count": null,
   "id": "a957ea98-0bbd-480a-9619-25341406f8fa",
   "metadata": {},
   "outputs": [],
   "source": []
  }
 ],
 "metadata": {
  "kernelspec": {
   "display_name": "Python 3 (ipykernel)",
   "language": "python",
   "name": "python3"
  },
  "language_info": {
   "codemirror_mode": {
    "name": "ipython",
    "version": 3
   },
   "file_extension": ".py",
   "mimetype": "text/x-python",
   "name": "python",
   "nbconvert_exporter": "python",
   "pygments_lexer": "ipython3",
   "version": "3.10.8"
  }
 },
 "nbformat": 4,
 "nbformat_minor": 5
}
