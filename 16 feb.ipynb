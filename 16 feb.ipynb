{
 "cells": [
  {
   "cell_type": "raw",
   "id": "d9518095-329f-4659-841c-984f6d58ca90",
   "metadata": {},
   "source": [
    "Q>1\n",
    "\n",
    "\n",
    "A database is a structured collection of data that is organized and stored in a way that allows for efficient retrieval, management, and manipulation of information. Databases are used in a wide range of applications, from managing customer information in a business to storing scientific research data.\n",
    "\n",
    "SQL Databases:\n",
    "1.Structured Data  2.Schema  3.Vertical Scalability\n",
    "\n",
    "NoSQL Databases:\n",
    "1.Flexible Data Models 2.Schema-less  3.Horizontal Scalability\n",
    "\n"
   ]
  },
  {
   "cell_type": "raw",
   "id": "20247ba7-f970-4b27-8270-b941e1c14ee3",
   "metadata": {},
   "source": [
    "Q>2\n",
    "\n",
    "DDL stands for Data Definition Language, which is a subset of SQL (Structured Query Language) used for defining and managing the structure of a relational database. DDL statements allow you to create, modify, and delete database objects such as tables, indexes, and constraints. Here's an explanation of some common DDL statements and why they are used, along with examples:\n",
    "\n",
    "i) CREATE\n",
    "\n",
    "CREATE TABLE school( first_name VARCHAR(50), last_name VARCHAR(50), email VARCHAR(50), age INT);\n",
    "\n",
    "ii) DROP\n",
    "\n",
    "DROP TABLE school;\n",
    "\n",
    "iii) ALTER\n",
    "\n",
    "ALTER TABLE school\n",
    "ADD phone_no INT;\n",
    "\n",
    "iv) TRUNCATE\n",
    "\n",
    "TRUNCATE TABLE school;\n",
    "\n"
   ]
  },
  {
   "cell_type": "raw",
   "id": "57662159-4efc-40fd-9969-b4a54c37040b",
   "metadata": {},
   "source": [
    "Q>3\n",
    "\n",
    "DML stands for Data Manipulation Language, which is a subset of SQL (Structured Query Language) used for manipulating data stored in a relational database. DML statements allow you to perform operations like inserting, updating, and deleting data in database tables. Here's an explanation of some common DML statements and examples of each:\n",
    "\n",
    "i) INSERT\n",
    "\n",
    "INSERT INTO school values(rahul, roy , rahulroy01@gmail.com , 21);\n",
    "\n",
    "ii) UPDATE\n",
    "\n",
    "UPDATE email\n",
    "\n",
    "SET email ='royrahul@gmail.com'\n",
    "\n",
    "WHERE email = 'rahulroy01@gmail.com';     \n",
    "\n",
    "\n",
    "iii) DELETE\n",
    "\n",
    "DELETE FROM school\n",
    "\n",
    "WHERE name = 'raja';\n",
    "\n",
    "\n"
   ]
  },
  {
   "cell_type": "raw",
   "id": "1e70770c-3bf0-44dc-a5b5-2e579bc7f643",
   "metadata": {},
   "source": [
    "Q>4\n",
    "\n",
    "DQL stands for Data Query Language, which is a subset of SQL (Structured Query Language) used for retrieving data from a relational database. The primary DQL statement is SELECT, which allows you to query a database to retrieve specific data from one or more tables. Here's an explanation of the SELECT statement with an example:\n",
    "\n",
    "The SELECT statement is used to specify what data you want to retrieve from the database. It can be used to select specific columns, filter rows based on conditions, and even join multiple tables to extract related information.\n",
    "\n",
    "\n",
    "SELECT first_name,age\n",
    "\n",
    "FROM school\n",
    "\n",
    "WHERE age>20;"
   ]
  },
  {
   "cell_type": "raw",
   "id": "5e1d92d1-a9de-4c2d-9c9a-9829e844e44b",
   "metadata": {},
   "source": [
    "Q>5\n",
    "\n",
    "Primary Key:\n",
    "\n",
    "A primary key is a column or a set of columns in a relational database table that uniquely identifies each row or record in that table. Here are some key characteristics and considerations regarding primary keys:\n",
    "\n",
    "Uniqueness: The primary key ensures that each value in the key column(s) is unique across all rows in the table. This uniqueness is critical because it enables you to distinguish one row from another.\n",
    "\n",
    "Non-null: A primary key column cannot contain NULL values, as NULLs would prevent the uniqueness requirement from being satisfied.\n",
    "\n",
    "\n",
    "Foreign Key:\n",
    "\n",
    "A foreign key is a column or set of columns in one table that is used to establish a link between the data in two related tables. It creates a referential integrity constraint, ensuring that data in the foreign key column(s) of one table matches the primary key values in another table. Key points about foreign keys include:\n",
    "\n",
    "References a Primary Key: A foreign key references a primary key in another table. It establishes a relationship between the two tables, typically representing a parent-child or related entity relationship.\n",
    "\n",
    "Enforces Referential Integrity: The presence of foreign keys enforces referential integrity, ensuring that data in the child table (the one containing the foreign key) corresponds to valid data in the parent table."
   ]
  },
  {
   "cell_type": "code",
   "execution_count": null,
   "id": "14b2affd-2394-452f-bd8a-bb4ee2094419",
   "metadata": {},
   "outputs": [],
   "source": [
    "Q>6\n",
    "\n",
    "import mysql.connector\n",
    "mydb = mysql.connector.connect(\n",
    "  host=\"localhost\",\n",
    "  user=\"abc\",\n",
    "  password=\"password\"\n",
    ")\n",
    "print(mydb)\n",
    "mycursor = mydb.cursor()\n",
    "mycursor.execute(\"create table if not exists test3.test_table(c1 INT, c2 VARCHAR(50), c3 FLOAT , c4 INT , c5 VARCHAR(30)) ;\")\n",
    "mydb.close()"
   ]
  },
  {
   "cell_type": "code",
   "execution_count": null,
   "id": "3a5393fd-270d-4508-b198-39c6471d8bdb",
   "metadata": {},
   "outputs": [],
   "source": []
  }
 ],
 "metadata": {
  "kernelspec": {
   "display_name": "Python 3 (ipykernel)",
   "language": "python",
   "name": "python3"
  },
  "language_info": {
   "codemirror_mode": {
    "name": "ipython",
    "version": 3
   },
   "file_extension": ".py",
   "mimetype": "text/x-python",
   "name": "python",
   "nbconvert_exporter": "python",
   "pygments_lexer": "ipython3",
   "version": "3.10.8"
  }
 },
 "nbformat": 4,
 "nbformat_minor": 5
}
