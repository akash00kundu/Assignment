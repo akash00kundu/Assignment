{
 "cells": [
  {
   "cell_type": "markdown",
   "id": "145e379b-a011-42c1-ae7e-b9f74ed5fea6",
   "metadata": {},
   "source": [
    "##1 \n",
    "\n",
    "Python's standard library provides a module called multiprocessing that makes it relatively easy to create and manage multiple processes. This module abstracts the complexities of managing multiple processes, such as process creation, communication, synchronization, and termination.\n",
    "\n",
    "Parallel Execution: Instead of running tasks sequentially, multiprocessing enables the execution of multiple tasks at the same time, utilizing available CPU cores.\n",
    "\n",
    "Improved Performance: By distributing the workload across multiple processes, you can significantly improve the overall performance and reduce the time it takes to complete tasks.\n",
    "\n",
    "Utilizing Multiple Cores: Modern computers often have multiple CPU cores, which can be used to run different processes simultaneously. Multiprocessing allows you to fully utilize these cores, maximizing the computational power of your system.\n",
    "\n",
    "Isolation: Each process runs in its own isolated memory space, preventing interference between processes. This isolation enhances the stability of your program, as issues in one process are less likely to affect others."
   ]
  },
  {
   "cell_type": "code",
   "execution_count": null,
   "id": "7acc0053-ff6e-44a0-a572-ebc1720915c7",
   "metadata": {},
   "outputs": [],
   "source": []
  },
  {
   "cell_type": "markdown",
   "id": "8553a009-4b50-410c-adf6-24e965f7dd9d",
   "metadata": {},
   "source": [
    "##2\n",
    "\n",
    "Multiprocessing and multithreading are both techniques used to achieve concurrent execution in a program, but they operate at different levels and have distinct characteristics. Here are the key differences between multiprocessing and multithreading:\n",
    "\n",
    "Processes vs. Threads:\n",
    "\n",
    "Multiprocessing: In multiprocessing, separate processes are created, each with its own memory space and Python interpreter. Processes are independent of each other and do not share memory by default. They communicate through inter-process communication mechanisms like pipes, queues, and shared memory.\n",
    "\n",
    "Multithreading: In multithreading, multiple threads are created within a single process, and they share the same memory space and resources. Threads are lighter-weight than processes and can communicate directly through shared variables.\n",
    "\n",
    "\n",
    "Parallelism vs. Concurrency:\n",
    "\n",
    "Multiprocessing: Since each process runs independently, multiprocessing achieves true parallelism, utilizing multiple CPU cores to execute tasks simultaneously. It's suitable for CPU-bound tasks.\n",
    "\n",
    "Multithreading: In multithreading, multiple threads are created within a single process, and they share the same memory space and resources. Threads are lighter-weight than processes and can communicate directly through shared variables.\n",
    "\n",
    "Parallelism vs. Concurrency:\n",
    "\n",
    "Multiprocessing: Since each process runs independently, multiprocessing achieves true parallelism, utilizing multiple CPU cores to execute tasks simultaneously. It's suitable for CPU-bound tasks.\n",
    "\n",
    "Multithreading: Due to the Global Interpreter Lock (GIL) in CPython (the most common implementation of Python), threads within the same process cannot execute Python bytecode simultaneously. As a result, multithreading is more suitable for IO-bound tasks that spend a lot of time waiting for external resources (like file I/O or network operations) rather than CPU-bound tasks."
   ]
  },
  {
   "cell_type": "code",
   "execution_count": null,
   "id": "58004eeb-6017-46cd-bee4-74de0601ede7",
   "metadata": {},
   "outputs": [],
   "source": []
  },
  {
   "cell_type": "raw",
   "id": "ff3c6bca-17b7-4fce-8cd4-7d4e3e1d8e2b",
   "metadata": {},
   "source": [
    "##3\n",
    "\n",
    "import multiprocessing\n",
    "\n",
    "def tokiyo():\n",
    "    print(\"hey,welcome to japan !!\")\n",
    "    \n",
    "if __name__ == \"__main__\":\n",
    "    \n",
    "    m1= multiprocessing.Process(target = tokiyo)\n",
    "    \n",
    "    \n",
    "\n",
    "m1.start()\n",
    "m1.join()\n",
    "\n",
    "print(\"Am Done\")\n",
    "  \n"
   ]
  },
  {
   "cell_type": "raw",
   "id": "c0c20647-ab85-40d0-a62f-fc0a9bd96214",
   "metadata": {},
   "source": [
    "##4\n",
    "\n",
    "A multiprocessing pool in Python, typically provided by the multiprocessing.Pool class, is a high-level abstraction for managing a pool of worker processes. It is used to parallelize the execution of a function across multiple input values, distributing the work among the worker processes. This is particularly useful for tasks that can be divided into independent subtasks, such as applying a function to a large dataset or performing CPU-bound operations in parallel.\n",
    "\n",
    "\n",
    "###code###\n",
    "\n",
    "def squre(n):\n",
    "    return n**2\n",
    "\n",
    "if __name__ == \"__main__\":\n",
    "    with multiprocessing.Pool(processes=4) as pool :\n",
    "        out = pool.map(squre, [1,2,3,4,5,6,7,8,9])\n",
    "        print(out)\n",
    "    \n"
   ]
  },
  {
   "cell_type": "code",
   "execution_count": 14,
   "id": "143e2b06-1339-433b-93d9-d99337402624",
   "metadata": {},
   "outputs": [
    {
     "name": "stdout",
     "output_type": "stream",
     "text": [
      "[1, 4, 9, 16, 25]\n"
     ]
    }
   ],
   "source": [
    "##5\n",
    "\n",
    "\n",
    "import multiprocessing\n",
    "\n",
    "def worker(x):\n",
    "    return x * x\n",
    "\n",
    "if __name__ == \"__main__\":\n",
    "    \n",
    "    with multiprocessing.Pool(processes=4) as pool:\n",
    "        \n",
    "        values = [1, 2, 3, 4, 5]\n",
    "\n",
    "        \n",
    "        results = pool.map(worker,values)\n",
    "\n",
    "\n",
    "    print(results)\n",
    "\n"
   ]
  },
  {
   "cell_type": "code",
   "execution_count": 16,
   "id": "e1869ff0-1a24-476f-aa52-f33cb193cd02",
   "metadata": {},
   "outputs": [
    {
     "name": "stdout",
     "output_type": "stream",
     "text": [
      "Process 1: Printing number 1\n",
      "Process 2: Printing number 2\n",
      "Process 3: Printing number 3\n",
      "Process 4: Printing number 4\n",
      "All processes have finished.\n"
     ]
    }
   ],
   "source": [
    "##6\n",
    "\n",
    "import multiprocessing\n",
    "\n",
    "def print_number(number):\n",
    "    print(f\"Process {number}: Printing number {number}\")\n",
    "\n",
    "if __name__ == \"__main__\":\n",
    "    processes = []\n",
    "\n",
    "    for i in range(1, 5):\n",
    "        process = multiprocessing.Process(target=print_number, args=(i,))\n",
    "        processes.append(process)\n",
    "        process.start()\n",
    "\n",
    "    for process in processes:\n",
    "        process.join()\n",
    "\n",
    "    print(\"All processes have finished.\")\n"
   ]
  },
  {
   "cell_type": "code",
   "execution_count": null,
   "id": "bd869933-822e-41cf-b892-98b7ae935fe0",
   "metadata": {},
   "outputs": [],
   "source": []
  }
 ],
 "metadata": {
  "kernelspec": {
   "display_name": "Python 3 (ipykernel)",
   "language": "python",
   "name": "python3"
  },
  "language_info": {
   "codemirror_mode": {
    "name": "ipython",
    "version": 3
   },
   "file_extension": ".py",
   "mimetype": "text/x-python",
   "name": "python",
   "nbconvert_exporter": "python",
   "pygments_lexer": "ipython3",
   "version": "3.10.8"
  }
 },
 "nbformat": 4,
 "nbformat_minor": 5
}
