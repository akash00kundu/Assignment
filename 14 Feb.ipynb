{
 "cells": [
  {
   "cell_type": "raw",
   "id": "5ab8d775-8c6d-41ca-908a-6fa8a572fb1d",
   "metadata": {},
   "source": [
    "##1\n",
    "\n",
    "\n",
    "Multithreading in Python refers to the capability of a program to execute multiple threads concurrently within a single process. A thread is a smallest unit of a CPU's execution, and multithreading allows a program to perform multiple tasks simultaneously, taking advantage of modern multi-core processors.\n",
    "\n",
    "Multithreading is used to achieve concurrent execution of tasks and can be beneficial in scenarios where the program has tasks that can run independently. It can improve the program's performance by utilizing available CPU resources more efficiently and by enabling responsiveness in applications that require parallel execution, such as web servers, GUI applications, and more.\n",
    "\n",
    "Python provides the \"threading\" module to handle threads."
   ]
  },
  {
   "cell_type": "code",
   "execution_count": 3,
   "id": "54da2b7a-75ae-4657-aff8-437add0256c4",
   "metadata": {},
   "outputs": [
    {
     "name": "stdout",
     "output_type": "stream",
     "text": [
      "Number: 1\n",
      "Number: 2\n",
      "Number: 3\n",
      "Number: 4\n",
      "Number: 5\n",
      "Execution completed.\n"
     ]
    }
   ],
   "source": [
    "import threading\n",
    "\n",
    "def print_numbers():\n",
    "    for i in range(1, 6):\n",
    "        print(f\"Number: {i}\")\n",
    "\n",
    "\n",
    "\n",
    "\n",
    "t1 = threading.Thread(target=print_numbers)\n",
    "\n",
    "\n",
    "\n",
    "t1.start()\n",
    "\n",
    "\n",
    "\n",
    "t1.join()\n",
    "\n",
    "\n",
    "print(\"Execution completed.\")\n"
   ]
  },
  {
   "cell_type": "code",
   "execution_count": null,
   "id": "b6ebf59b-3cce-41ab-ba71-1dd37d0e82b4",
   "metadata": {},
   "outputs": [],
   "source": []
  },
  {
   "cell_type": "code",
   "execution_count": null,
   "id": "441452b6-ef7e-41d4-9e42-863500740c32",
   "metadata": {},
   "outputs": [],
   "source": []
  },
  {
   "cell_type": "code",
   "execution_count": 10,
   "id": "295ca305-9770-430d-9979-ed34343fdc72",
   "metadata": {},
   "outputs": [
    {
     "name": "stdout",
     "output_type": "stream",
     "text": [
      "Active Thead are : 8\n",
      "japan1 -started\n",
      "japan2 -started\n",
      "japan3 -started\n",
      "11\n",
      "MainThread\n",
      "True\n",
      "<_MainThread(MainThread, started 140714899375936)>\n",
      "<Thread(IOPub, started daemon 140714828846656)>\n",
      "<Heartbeat(Heartbeat, started daemon 140714820453952)>\n",
      "<Thread(Thread-3 (_watch_pipe_fd), started daemon 140714587444800)>\n",
      "<Thread(Thread-4 (_watch_pipe_fd), started daemon 140714579052096)>\n",
      "<ControlThread(Control, started daemon 140714570659392)>\n",
      "<HistorySavingThread(IPythonHistorySavingThread, started 140714562266688)>\n",
      "<ParentPollerUnix(Thread-2, started daemon 140714553873984)>\n",
      "<Thread(japan1, started 140714193184320)>\n",
      "<Thread(japan2, started 140714184791616)>\n",
      "<Thread(japan3, started 140714201577024)>\n"
     ]
    },
    {
     "name": "stderr",
     "output_type": "stream",
     "text": [
      "/tmp/ipykernel_762/2120019338.py:8: DeprecationWarning: getName() is deprecated, get the name attribute instead\n",
      "  print(current_thread().getName(),\"-started\")\n",
      "/tmp/ipykernel_762/2120019338.py:28: DeprecationWarning: getName() is deprecated, get the name attribute instead\n",
      "  print(current_thread().getName())\n"
     ]
    },
    {
     "name": "stdout",
     "output_type": "stream",
     "text": [
      "japan3 -ended\n",
      "japan1 -ended\n",
      "japan2 -ended\n",
      "8\n",
      "Thank you\n"
     ]
    },
    {
     "name": "stderr",
     "output_type": "stream",
     "text": [
      "/tmp/ipykernel_762/2120019338.py:10: DeprecationWarning: getName() is deprecated, get the name attribute instead\n",
      "  print(current_thread().getName(),\"-ended\")\n"
     ]
    }
   ],
   "source": [
    "#2\n",
    "\n",
    "from threading import*\n",
    "import time\n",
    "\n",
    "def tokiyo():\n",
    "    \n",
    "    print(current_thread().getName(),\"-started\")\n",
    "    time.sleep(3)\n",
    "    print(current_thread().getName(),\"-ended\")\n",
    "    \n",
    "\n",
    "print(\"Active Thead are :\", active_count())\n",
    "    \n",
    "t1 = Thread(target = tokiyo,name = \"japan1\")\n",
    "t2 = Thread(target = tokiyo,name = \"japan2\")\n",
    "t3 = Thread(target = tokiyo,name = \"japan3\")\n",
    "\n",
    "t1.start()\n",
    "t2.start()\n",
    "t3.start()\n",
    "\n",
    "#active_count()\n",
    "print(active_count())\n",
    "\n",
    "\n",
    "#currentThread()\n",
    "print(current_thread().getName())\n",
    "\n",
    "print(current_thread().is_alive())\n",
    "\n",
    "#enumerate()\n",
    "l =enumerate()\n",
    "for t in l:\n",
    "    print(t)\n",
    "    \n",
    "t1.join()\n",
    "t2.join()\n",
    "t3.join()    \n",
    "\n",
    "#active_count()\n",
    "print(active_count())\n",
    "\n",
    "print(\"Thank you\")"
   ]
  },
  {
   "cell_type": "code",
   "execution_count": null,
   "id": "ee057644-5f73-4992-a8fe-7631e4a91513",
   "metadata": {},
   "outputs": [],
   "source": []
  },
  {
   "cell_type": "code",
   "execution_count": null,
   "id": "97ed6266-31c7-4926-b9e3-2788a06b940c",
   "metadata": {},
   "outputs": [],
   "source": []
  },
  {
   "cell_type": "raw",
   "id": "860e16c7-1d86-440b-b329-1c5a01bdf138",
   "metadata": {},
   "source": [
    "##3\n",
    "\n",
    "run() :\n",
    "\n",
    "The run() method defines the entry point for the thread's execution.\n",
    "\n",
    "start() :\n",
    "\n",
    "The start() method is used to begin the execution of a thread's run() method.\n",
    "\n",
    "join() :\n",
    "\n",
    "The join() method is used to wait for a thread to finish its execution before moving on to the next steps in the program.\n",
    "\n",
    "\n",
    "isAlive() :\n",
    "\n",
    "The isAlive attribute (also available as is_alive()) is used to determine whether a thread is currently executing or has finished."
   ]
  },
  {
   "cell_type": "code",
   "execution_count": null,
   "id": "053319b6-70af-4579-8c97-2f9965305a1e",
   "metadata": {},
   "outputs": [],
   "source": []
  },
  {
   "cell_type": "code",
   "execution_count": 11,
   "id": "78befa6d-e0bc-4751-a535-0d8aa93580a7",
   "metadata": {},
   "outputs": [
    {
     "name": "stdout",
     "output_type": "stream",
     "text": [
      "Square of 3: 9\n",
      "Square of 6: 36\n",
      "Square of 9: 81\n",
      "Square of 2: 4\n",
      "Square of 7: 49\n",
      "Cube of 3: 27\n",
      "Cube of 6: 216\n",
      "Cube of 9: 729\n",
      "Cube of 2: 8\n",
      "Cube of 7: 343\n",
      "Both threads have finished.\n"
     ]
    }
   ],
   "source": [
    "##4\n",
    "\n",
    "import threading\n",
    "\n",
    "numbers = [3,6,9,2,7]\n",
    "\n",
    "def print_squares(numbers):\n",
    "    for num in numbers:\n",
    "        print(f\"Square of {num}: {num ** 2}\")\n",
    "\n",
    "def print_cubes(numbers):\n",
    "    for num in numbers:\n",
    "        print(f\"Cube of {num}: {num ** 3}\")\n",
    "\n",
    "\n",
    "\n",
    "\n",
    "thread1 = threading.Thread(target=print_squares, args=(numbers,))\n",
    "thread2 = threading.Thread(target=print_cubes, args=(numbers,))\n",
    "\n",
    "\n",
    "thread1.start()\n",
    "thread2.start()\n",
    "\n",
    "\n",
    "thread1.join()\n",
    "thread2.join()\n",
    "\n",
    "print(\"Both threads have finished.\")\n"
   ]
  },
  {
   "cell_type": "code",
   "execution_count": null,
   "id": "1292d37a-8c13-490b-a300-0b40764c8592",
   "metadata": {},
   "outputs": [],
   "source": []
  },
  {
   "cell_type": "raw",
   "id": "ed82808d-ba11-4221-bf8b-883e99ae2a52",
   "metadata": {},
   "source": [
    "##5\n",
    "\n",
    "Advantages of Multithreading:\n",
    "\n",
    "Concurrency: Multithreading allows multiple threads to run concurrently within the same process,\n",
    "\n",
    "\n",
    "\n",
    "\n"
   ]
  },
  {
   "cell_type": "code",
   "execution_count": null,
   "id": "60f9664c-496b-4224-b46f-506b341cca13",
   "metadata": {},
   "outputs": [],
   "source": []
  },
  {
   "cell_type": "raw",
   "id": "87316e8d-18fc-4743-a3d7-a08770043495",
   "metadata": {},
   "source": [
    "##6\n",
    "\n",
    "Deadlocks:\n",
    "\n",
    "A deadlock occurs when two or more threads or processes are unable to proceed with their execution because each is waiting for the other(s) to release resources. Essentially, a deadlock involves a circular waiting scenario where no thread can proceed, causing the entire application to become unresponsive.\n",
    "\n",
    "Race Conditions:\n",
    "\n",
    "A race condition occurs when multiple threads access shared resources concurrently and the final outcome depends on the order of execution. Race conditions can lead to unpredictable and incorrect behavior due to unexpected interleavings of thread operations."
   ]
  }
 ],
 "metadata": {
  "kernelspec": {
   "display_name": "Python 3 (ipykernel)",
   "language": "python",
   "name": "python3"
  },
  "language_info": {
   "codemirror_mode": {
    "name": "ipython",
    "version": 3
   },
   "file_extension": ".py",
   "mimetype": "text/x-python",
   "name": "python",
   "nbconvert_exporter": "python",
   "pygments_lexer": "ipython3",
   "version": "3.10.8"
  }
 },
 "nbformat": 4,
 "nbformat_minor": 5
}
