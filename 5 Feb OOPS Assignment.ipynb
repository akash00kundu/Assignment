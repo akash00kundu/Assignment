{
 "cells": [
  {
   "cell_type": "code",
   "execution_count": 1,
   "id": "fbff38d6-f305-4b72-9a46-784f65ea655a",
   "metadata": {},
   "outputs": [],
   "source": [
    "##1\n",
    "\n",
    "#  In Object-Oriented Programming (OOP), a class is a blueprint or a template that defines the structure and behavior of objects.\n",
    "\n",
    "\n",
    "\n",
    "class bank:\n",
    "    \n",
    "    \n",
    "    def __init__(self,balance):\n",
    "        self.balance = balance\n",
    "    \n",
    "    def deposit(self,amount):\n",
    "        self.balance = self.balance + amount\n",
    "        return self.balance\n",
    "    \n",
    "    def withdraw(self,amount):\n",
    "        if amount < self.balance:\n",
    "            self.balance = self.balance - amount\n",
    "           \n",
    "        else :\n",
    "            return \"Insufficient Fund In Your Account\"\n",
    "        \n",
    "    def get_balance(self):\n",
    "            return self.balance\n",
    "        \n"
   ]
  },
  {
   "cell_type": "code",
   "execution_count": 9,
   "id": "eb58bfac-ff88-4d78-9ea7-c704b7001d1b",
   "metadata": {},
   "outputs": [
    {
     "data": {
      "text/plain": [
       "6000"
      ]
     },
     "execution_count": 9,
     "metadata": {},
     "output_type": "execute_result"
    }
   ],
   "source": [
    "#  An object is an instance of a class. It is a concrete entity that exists in memory and represents a specific occurrence of the class.\n",
    "#  Each object has its own set of attributes and can perform actions defined by the methods of its class.\n",
    "\n",
    "\n",
    "\n",
    "banksbi = bank(2000)\n",
    "\n",
    "banksbi.deposit(5000)\n",
    "\n",
    "banksbi.withdraw(1000)\n",
    "\n",
    "banksbi.get_balance()"
   ]
  },
  {
   "cell_type": "code",
   "execution_count": null,
   "id": "b25ef5bf-14da-4509-b7b5-3d1a9f4cb433",
   "metadata": {},
   "outputs": [],
   "source": []
  },
  {
   "cell_type": "code",
   "execution_count": null,
   "id": "ee021a64-31a4-4b34-bcab-24e12c5c5675",
   "metadata": {},
   "outputs": [],
   "source": []
  },
  {
   "cell_type": "code",
   "execution_count": 10,
   "id": "037b8d01-061e-4244-96f6-598c46fa7e2e",
   "metadata": {},
   "outputs": [],
   "source": [
    "## 2\n",
    "\n",
    "Encapsulation\n",
    "\n",
    "Abstraction\n",
    "\n",
    "Inheritance\n",
    "\n",
    "Polymorphism"
   ]
  },
  {
   "cell_type": "code",
   "execution_count": null,
   "id": "d78cae35-a9b9-4c1b-9511-49d4137858b8",
   "metadata": {},
   "outputs": [],
   "source": []
  },
  {
   "cell_type": "code",
   "execution_count": null,
   "id": "54195d78-7e8b-43b6-a845-9f6e93556344",
   "metadata": {},
   "outputs": [],
   "source": []
  },
  {
   "cell_type": "code",
   "execution_count": 19,
   "id": "a8a35b5a-3dd0-4656-bd37-217180692698",
   "metadata": {},
   "outputs": [
    {
     "name": "stdout",
     "output_type": "stream",
     "text": [
      "Hi My Name is knoxx and my Age is 25\n"
     ]
    }
   ],
   "source": [
    "### 3 \n",
    "\n",
    "\n",
    "##   The primary purpose of __init__() is to set up the initial state of the object and \n",
    "##    provide it with any necessary data when it is created.\n",
    "\n",
    "\n",
    "class intro:\n",
    "    \n",
    "    def __init__(self,name,age):\n",
    "        self.name = name\n",
    "        self.age = age\n",
    "        \n",
    "    def introduction(self):\n",
    "        print(f'Hi My Name is {self.name} and my Age is {self.age}')\n",
    "        \n",
    "        \n",
    "### objects\n",
    "\n",
    "akash = intro(\"knoxx\" , 25)\n",
    "\n",
    "akash.introduction()"
   ]
  },
  {
   "cell_type": "code",
   "execution_count": null,
   "id": "36b8e63a-cc01-47a9-aa1e-fd01370b0cbf",
   "metadata": {},
   "outputs": [],
   "source": []
  },
  {
   "cell_type": "code",
   "execution_count": null,
   "id": "9ed71bee-7222-4e79-bbe8-9937c10bf719",
   "metadata": {},
   "outputs": [],
   "source": []
  },
  {
   "cell_type": "markdown",
   "id": "906057bd-a946-4857-beec-2363280c6516",
   "metadata": {},
   "source": [
    "##4\n",
    "\n",
    "In Object-Oriented Programming (OOP), self is a special parameter used in instance methods (regular methods) of a class. It is used to refer to the current instance (object) of the class, allowing the methods to access and modify the object's attributes and call other methods within the class.\n",
    "\n",
    "\n",
    "class intro:\n",
    "    \n",
    "    def __init__(self,name,age):\n",
    "        self.name = name\n",
    "        self.age = age\n",
    "        \n",
    "    def introduction(self):\n",
    "    \n",
    "        print(f'Hi My Name is {self.name} and my Age is {self.age}')\n",
    "        "
   ]
  },
  {
   "cell_type": "code",
   "execution_count": null,
   "id": "44c7adae-466a-4819-afe9-60ad7d42dfcf",
   "metadata": {},
   "outputs": [],
   "source": []
  },
  {
   "cell_type": "code",
   "execution_count": null,
   "id": "d1092c77-49dd-4960-a687-1ea774645068",
   "metadata": {},
   "outputs": [],
   "source": []
  },
  {
   "cell_type": "code",
   "execution_count": 20,
   "id": "edb72195-ce4c-4cd6-bca1-f22bce736e90",
   "metadata": {},
   "outputs": [],
   "source": [
    "## 5\n",
    "\n",
    "\n",
    "# Single Inheritance\n",
    "\n",
    "class animal:\n",
    "    def speak(self):\n",
    "        return \"animal speak\"\n",
    "    \n",
    "class dog(animal):\n",
    "    def speak(self):\n",
    "        return \"Woof!! Woof!!\"\n",
    "    \n",
    "    \n",
    "    \n",
    "##  Multiple Inheritance\n",
    "\n",
    "class Student:\n",
    "    def basic(self):\n",
    "        print(\"hello there am a Student\")\n",
    "        \n",
    "        \n",
    "        \n",
    "class Employee:\n",
    "    def basic1(self):\n",
    "        print(\"Hello There!!\")\n",
    "    \n",
    "    \n",
    "class both(Student,Employee):\n",
    "    pass\n",
    "   \n",
    "    \n",
    "    \n",
    "    \n",
    "### Multilevel Inheritance\n",
    "\n",
    "class Grandpa:\n",
    "    def hello(self):\n",
    "        print(\"hello everyone\")\n",
    "        \n",
    "class Papa(Grandpa):\n",
    "    def hey(self):\n",
    "        print(\"hey papa\")\n",
    "        \n",
    "class Son(Papa):\n",
    "    def hii(self):\n",
    "        print(\"hi dadda\")\n",
    "\n",
    "\n",
    "\n",
    "####\n",
    "\n",
    "\n",
    "class Shape:\n",
    "    def draw(self):\n",
    "        print(\"Drawing shape.\")\n",
    "\n",
    "class Circle(Shape):\n",
    "    def draw(self):\n",
    "        print(\"Drawing circle.\")\n",
    "\n",
    "class Square(Shape):\n",
    "    def draw(self):\n",
    "        print(\"Drawing square.\")\n",
    "\n",
    "\n",
    "\n",
    "\n"
   ]
  },
  {
   "cell_type": "code",
   "execution_count": 21,
   "id": "6a1c8d46-d5a7-4741-86a4-6a30091e9224",
   "metadata": {},
   "outputs": [],
   "source": [
    "jojo = Square()"
   ]
  },
  {
   "cell_type": "code",
   "execution_count": 22,
   "id": "8826bb50-85a8-4e9e-9745-20abfe20270f",
   "metadata": {},
   "outputs": [
    {
     "name": "stdout",
     "output_type": "stream",
     "text": [
      "Drawing square.\n"
     ]
    }
   ],
   "source": [
    "jojo.draw()"
   ]
  },
  {
   "cell_type": "code",
   "execution_count": null,
   "id": "31a7296f-f069-4a12-bba0-d7b66cdb60d9",
   "metadata": {},
   "outputs": [],
   "source": []
  }
 ],
 "metadata": {
  "kernelspec": {
   "display_name": "Python 3 (ipykernel)",
   "language": "python",
   "name": "python3"
  },
  "language_info": {
   "codemirror_mode": {
    "name": "ipython",
    "version": 3
   },
   "file_extension": ".py",
   "mimetype": "text/x-python",
   "name": "python",
   "nbconvert_exporter": "python",
   "pygments_lexer": "ipython3",
   "version": "3.10.8"
  }
 },
 "nbformat": 4,
 "nbformat_minor": 5
}
